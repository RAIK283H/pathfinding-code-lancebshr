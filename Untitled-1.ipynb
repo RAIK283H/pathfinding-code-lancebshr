{
 "cells": [
  {
   "cell_type": "code",
   "execution_count": 1,
   "metadata": {},
   "outputs": [
    {
     "name": "stdout",
     "output_type": "stream",
     "text": [
      "Set A: Shapiro-Wilk test statistic = 0.9663945361927598, p-value = 0.8555532902665932\n",
      "Set B: Shapiro-Wilk test statistic = 0.9485490179649306, p-value = 0.6513645694699637\n"
     ]
    }
   ],
   "source": [
    "import scipy.stats\n",
    "\n",
    "set_a = [4, 7, 9, 12, 15, 18, 21, 24, 27, 30]\n",
    "set_b = [2, 5, 10, 16, 19, 22, 25, 28, 31, 33]\n",
    "\n",
    "# Running the Shapiro-Wilk test\n",
    "stat_a, p_value_a = scipy.stats.shapiro(set_a)\n",
    "stat_b, p_value_b = scipy.stats.shapiro(set_b)\n",
    "\n",
    "print(f\"Set A: Shapiro-Wilk test statistic = {stat_a}, p-value = {p_value_a}\")\n",
    "print(f\"Set B: Shapiro-Wilk test statistic = {stat_b}, p-value = {p_value_b}\")"
   ]
  },
  {
   "cell_type": "code",
   "execution_count": 2,
   "metadata": {},
   "outputs": [
    {
     "name": "stdout",
     "output_type": "stream",
     "text": [
      "T-test: t-statistic = -0.5463017443271829, p-value = 0.5915663450473192\n"
     ]
    }
   ],
   "source": [
    "t_stat, p_value_ttest = scipy.stats.ttest_ind(set_a, set_b)\n",
    "print(f\"T-test: t-statistic = {t_stat}, p-value = {p_value_ttest}\")\n"
   ]
  },
  {
   "cell_type": "code",
   "execution_count": 4,
   "metadata": {},
   "outputs": [
    {
     "name": "stdout",
     "output_type": "stream",
     "text": [
      "Mann-Whitney U-test: U-statistic = 41.0, p-value = 0.5205228832757727\n"
     ]
    }
   ],
   "source": [
    "u_stat, p_value_mwu = scipy.stats.mannwhitneyu(set_a, set_b)\n",
    "print(f\"Mann-Whitney U-test: U-statistic = {u_stat}, p-value = {p_value_mwu}\")"
   ]
  },
  {
   "cell_type": "code",
   "execution_count": 5,
   "metadata": {},
   "outputs": [
    {
     "name": "stdout",
     "output_type": "stream",
     "text": [
      "Wilcoxon Signed-Rank Test: Statistic = 5.0, p-value = 0.01953125\n"
     ]
    }
   ],
   "source": [
    "wilcoxon_stat, p_value_wilcoxon = scipy.stats.wilcoxon(set_a, set_b)\n",
    "print(f\"Wilcoxon Signed-Rank Test: Statistic = {wilcoxon_stat}, p-value = {p_value_wilcoxon}\")\n"
   ]
  },
  {
   "cell_type": "code",
   "execution_count": 3,
   "metadata": {},
   "outputs": [
    {
     "name": "stdout",
     "output_type": "stream",
     "text": [
      "Paired T-test: t-statistic = -3.031746915839468, p-value = 0.014206446340941427\n"
     ]
    }
   ],
   "source": [
    "t_stat_paired, p_value_paired = scipy.stats.ttest_rel(set_a, set_b)\n",
    "print(f\"Paired T-test: t-statistic = {t_stat_paired}, p-value = {p_value_paired}\")\n",
    "\n"
   ]
  },
  {
   "cell_type": "code",
   "execution_count": 6,
   "metadata": {},
   "outputs": [
    {
     "name": "stdout",
     "output_type": "stream",
     "text": [
      "ANOVA: F-statistic = 1.1023016834454236, p-value = 0.3465916527110031\n"
     ]
    }
   ],
   "source": [
    "set_c = [1, 3, 6, 8, 11, 14, 17, 20, 23, 26]\n",
    "f_stat, p_value_anova = scipy.stats.f_oneway(set_a, set_b, set_c)\n",
    "print(f\"ANOVA: F-statistic = {f_stat}, p-value = {p_value_anova}\")"
   ]
  }
 ],
 "metadata": {
  "kernelspec": {
   "display_name": "Python 3",
   "language": "python",
   "name": "python3"
  },
  "language_info": {
   "codemirror_mode": {
    "name": "ipython",
    "version": 3
   },
   "file_extension": ".py",
   "mimetype": "text/x-python",
   "name": "python",
   "nbconvert_exporter": "python",
   "pygments_lexer": "ipython3",
   "version": "3.12.5"
  }
 },
 "nbformat": 4,
 "nbformat_minor": 2
}
